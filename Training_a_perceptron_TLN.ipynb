{
  "nbformat": 4,
  "nbformat_minor": 0,
  "metadata": {
    "colab": {
      "name": "Training a perceptron.ipynb",
      "provenance": [],
      "authorship_tag": "ABX9TyMjNinPSimNQ7vpEromJSG7",
      "include_colab_link": true
    },
    "kernelspec": {
      "name": "python3",
      "display_name": "Python 3"
    }
  },
  "cells": [
    {
      "cell_type": "markdown",
      "metadata": {
        "id": "view-in-github",
        "colab_type": "text"
      },
      "source": [
        "<a href=\"https://colab.research.google.com/github/Panuvat-Dan/Machine_learning_chula_class/blob/main/Training_a_perceptron_TLN.ipynb\" target=\"_parent\"><img src=\"https://colab.research.google.com/assets/colab-badge.svg\" alt=\"Open In Colab\"/></a>"
      ]
    },
    {
      "cell_type": "markdown",
      "metadata": {
        "id": "cu6CjFpz6RBA"
      },
      "source": [
        "Initiaize 1 means True 0 means False"
      ]
    },
    {
      "cell_type": "code",
      "metadata": {
        "colab": {
          "base_uri": "https://localhost:8080/"
        },
        "id": "EV0ii6wr5rCd",
        "outputId": "d7ddf4f8-2047-4445-95a4-47d584cb2862"
      },
      "source": [
        "import numpy as np\r\n",
        "x = np.array([[1,0,0],[1,0,1],[1,1,0],[1,1,1]]) # example [x0,x1,x2]\r\n",
        "y = np.array([0,0,0,1])  # target \r\n",
        "w = np.random.rand(1,3)  #random weight 1 row 3 columns\r\n",
        "print(w) # initail weight"
      ],
      "execution_count": 37,
      "outputs": [
        {
          "output_type": "stream",
          "text": [
            "[[0.17106039 0.33965732 0.59941616]]\n"
          ],
          "name": "stdout"
        }
      ]
    },
    {
      "cell_type": "code",
      "metadata": {
        "colab": {
          "base_uri": "https://localhost:8080/"
        },
        "id": "s0m0CV9566Vq",
        "outputId": "673dd3d5-8a48-47d9-86c0-ec1474827269"
      },
      "source": [
        "x[0].dot(w.T) # example of output"
      ],
      "execution_count": 38,
      "outputs": [
        {
          "output_type": "execute_result",
          "data": {
            "text/plain": [
              "array([0.17106039])"
            ]
          },
          "metadata": {
            "tags": []
          },
          "execution_count": 38
        }
      ]
    },
    {
      "cell_type": "code",
      "metadata": {
        "colab": {
          "base_uri": "https://localhost:8080/"
        },
        "id": "tqOTun8V8RxQ",
        "outputId": "6f8f4f5b-d2b7-4c98-bd5f-7ab9460d0438"
      },
      "source": [
        "if x[0].dot(w.T)-0.4 < 0:\r\n",
        "  print('false')\r\n",
        "else :\r\n",
        "  print('true')"
      ],
      "execution_count": 39,
      "outputs": [
        {
          "output_type": "stream",
          "text": [
            "false\n"
          ],
          "name": "stdout"
        }
      ]
    },
    {
      "cell_type": "code",
      "metadata": {
        "colab": {
          "base_uri": "https://localhost:8080/"
        },
        "id": "pexydZBb7VHy",
        "outputId": "ee2c1288-37ca-40f7-8b59-48917ea7a365"
      },
      "source": [
        "w.T # test weight"
      ],
      "execution_count": 40,
      "outputs": [
        {
          "output_type": "execute_result",
          "data": {
            "text/plain": [
              "array([[0.17106039],\n",
              "       [0.33965732],\n",
              "       [0.59941616]])"
            ]
          },
          "metadata": {
            "tags": []
          },
          "execution_count": 40
        }
      ]
    },
    {
      "cell_type": "code",
      "metadata": {
        "colab": {
          "base_uri": "https://localhost:8080/",
          "height": 282
        },
        "id": "HjXVWtZE7Waa",
        "outputId": "a49640ac-be23-4299-cf13-554b5f685275"
      },
      "source": [
        "import matplotlib.pyplot as plt\r\n",
        "eta = 0.1 # learning rate\r\n",
        "count_=0\r\n",
        "x1=np.arange(0.04,1,0.1)\r\n",
        "x2=-w[0][0]/w[0][2]-w[0][1]/w[0][2]*x1\r\n",
        "while count_ < 4:\r\n",
        "  for i in range(4):\r\n",
        "    output = x[0].dot(w.T)\r\n",
        "    if output > 0 and y[i] == 0: # output plus but target negative\r\n",
        "      # w=w-nx\r\n",
        "      w[0]=w[0]-eta*x[i]\r\n",
        "      x2=-w[0][0]/w[0][2]-w[0][1]/w[0][2]*x1\r\n",
        "      plt.plot(x1,x2)\r\n",
        "    elif output < 0 and y[i] == 1: # outout negative but target positive\r\n",
        "      # w=w+nx\r\n",
        "      w[0]=w[0]+eta*x[i]\r\n",
        "      x2=-w[0][0]/w[0][2]-w[0][1]/w[0][2]*x1\r\n",
        "      plt.plot(x1,x2)\r\n",
        "    else :\r\n",
        "      count_ += 1\r\n",
        "print(w) # final weight"
      ],
      "execution_count": 41,
      "outputs": [
        {
          "output_type": "stream",
          "text": [
            "[[0.07106039 0.63965732 0.79941616]]\n"
          ],
          "name": "stdout"
        },
        {
          "output_type": "display_data",
          "data": {
            "image/png": "[encoded data removed]",
            "text/plain": [
              "<Figure size 432x288 with 1 Axes>"
            ]
          },
          "metadata": {
            "tags": [],
            "needs_background": "light"
          }
        }
      ]
    },
    {
      "cell_type": "code",
      "metadata": {
        "id": "vpfYm0jy9ZJY"
      },
      "source": [
        "\r\n"
      ],
      "execution_count": null,
      "outputs": []
    }
  ]
}